{
 "cells": [
  {
   "cell_type": "code",
   "execution_count": 3,
   "id": "f352d358",
   "metadata": {},
   "outputs": [],
   "source": [
    "from pandas_datareader import data, wb\n",
    "import pandas as pd\n",
    "import numpy as np\n",
    "import datetime\n",
    "import warnings\n",
    "warnings.filterwarnings('ignore')\n",
    "%matplotlib inline"
   ]
  },
  {
   "cell_type": "code",
   "execution_count": null,
   "id": "424ea1bf",
   "metadata": {},
   "outputs": [],
   "source": [
    "#figure out how to get stock data from jan 1st 2006 to jan 1st 2016 for each of these banks. each bank is a seperate dataframe with variable name for that bank being its ticker symbol\n",
    "start = pd.to_datetime('2006-01-01')\n",
    "end = pd.to_datetime('2016-01-01')"
   ]
  },
  {
   "cell_type": "code",
   "execution_count": null,
   "id": "d8631f4a",
   "metadata": {},
   "outputs": [],
   "source": [
    "BAC = data.DataReader('BAC','stooq',start,end)\n",
    "C = data.DataReader('C','stooq',start,end)\n",
    "JPM = data.DataReader('JPM','stooq',start,end)\n",
    "WFS = data.DataReader('WFC','stooq',start,end)\n",
    "MS = data.DataReader('MS', 'stooq', start, end)\n",
    "GS = data.DataReader('GS', 'stooq', start, end)"
   ]
  },
  {
   "cell_type": "code",
   "execution_count": null,
   "id": "abcfa1ca",
   "metadata": {},
   "outputs": [],
   "source": [
    "tickers = ['BAC','C','GS','JPM','MS','WFS']"
   ]
  },
  {
   "cell_type": "code",
   "execution_count": null,
   "id": "5a96cbdc",
   "metadata": {},
   "outputs": [],
   "source": []
  },
  {
   "cell_type": "code",
   "execution_count": null,
   "id": "a85d8f0b",
   "metadata": {},
   "outputs": [],
   "source": []
  },
  {
   "cell_type": "code",
   "execution_count": null,
   "id": "fbced3b3",
   "metadata": {},
   "outputs": [],
   "source": []
  },
  {
   "cell_type": "code",
   "execution_count": null,
   "id": "b4f7fcc5",
   "metadata": {},
   "outputs": [],
   "source": []
  }
 ],
 "metadata": {
  "kernelspec": {
   "display_name": "Python 3",
   "language": "python",
   "name": "python3"
  },
  "language_info": {
   "codemirror_mode": {
    "name": "ipython",
    "version": 3
   },
   "file_extension": ".py",
   "mimetype": "text/x-python",
   "name": "python",
   "nbconvert_exporter": "python",
   "pygments_lexer": "ipython3",
   "version": "3.12.2"
  }
 },
 "nbformat": 4,
 "nbformat_minor": 5
}
